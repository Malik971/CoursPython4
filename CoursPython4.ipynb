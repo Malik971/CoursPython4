{
 "cells": [
  {
   "cell_type": "markdown",
   "id": "3572c6a0",
   "metadata": {},
   "source": [
    "# Les Modules et les packages en python\n",
    "\n",
    "## Les Modules en python\n",
    "\n",
    "### Créer son propre module"
   ]
  },
  {
   "cell_type": "code",
   "execution_count": 1,
   "id": "bb48c2b2",
   "metadata": {},
   "outputs": [],
   "source": [
    "# Importer et renommer tout le module\n",
    "from monPackage import spyderPython4 as desc"
   ]
  },
  {
   "cell_type": "code",
   "execution_count": 2,
   "id": "826014ab",
   "metadata": {},
   "outputs": [],
   "source": [
    "# création de la liste\n",
    "chiffre_affaires = [30, 40, 50, 80, 100]"
   ]
  },
  {
   "cell_type": "code",
   "execution_count": 3,
   "id": "17d6567f",
   "metadata": {},
   "outputs": [
    {
     "data": {
      "text/plain": [
       "{'min': 30, 'max': 100, 'somme': 300, 'moyenne': 60.0}"
      ]
     },
     "execution_count": 3,
     "metadata": {},
     "output_type": "execute_result"
    }
   ],
   "source": [
    "# Application de la fonction\n",
    "desc.statdescriptive(chiffre_affaires)"
   ]
  },
  {
   "cell_type": "code",
   "execution_count": 4,
   "id": "b0459991",
   "metadata": {},
   "outputs": [
    {
     "data": {
      "text/plain": [
       "300"
      ]
     },
     "execution_count": 4,
     "metadata": {},
     "output_type": "execute_result"
    }
   ],
   "source": [
    "# somme du chiffre d'affaire\n",
    "somme_ca = desc.sommme_element(chiffre_affaires)\n",
    "somme_ca"
   ]
  },
  {
   "cell_type": "code",
   "execution_count": 5,
   "id": "fa50fd09",
   "metadata": {},
   "outputs": [],
   "source": [
    "# importer une partie du module\n",
    "from monPackage.spyderPython4 import statdescriptive,sommme_element"
   ]
  },
  {
   "cell_type": "code",
   "execution_count": 6,
   "id": "49432c50",
   "metadata": {},
   "outputs": [
    {
     "data": {
      "text/plain": [
       "{'min': 30, 'max': 100, 'somme': 300, 'moyenne': 60.0}"
      ]
     },
     "execution_count": 6,
     "metadata": {},
     "output_type": "execute_result"
    }
   ],
   "source": [
    "statdescriptive(chiffre_affaires)"
   ]
  },
  {
   "cell_type": "code",
   "execution_count": 7,
   "id": "a85d4e4f",
   "metadata": {},
   "outputs": [
    {
     "data": {
      "text/plain": [
       "300"
      ]
     },
     "execution_count": 7,
     "metadata": {},
     "output_type": "execute_result"
    }
   ],
   "source": [
    "# sommme_element n'a pas été importer\n",
    "sommme_element(chiffre_affaires)"
   ]
  },
  {
   "cell_type": "markdown",
   "id": "0c3ce3a9",
   "metadata": {},
   "source": [
    "## Les modules externes"
   ]
  },
  {
   "cell_type": "markdown",
   "id": "5de2dce1",
   "metadata": {},
   "source": [
    "Exemple de structure ici: https://docs.python.org/fr/3/tutorial/modules.html#\n",
    "\n",
    "Ensemble des modules https://docs.python.org/3/py-modindex.html\n",
    "\n",
    "Quelques modules utiles en data science\n",
    "\n",
    "math: Pour les fonctions mathématiques de base.\n",
    "statistics Pour faire des statistiques\n",
    "os: Pour interagir avec le système d'exploitation, comme la gestion des chemins de fichiers et les commandes du système d'exploitation.\n",
    "sys: Fournit un accès à certaines variables et fonctions qui interagissent fortement avec l'interpréteur Python.\n",
    "json: Pour la lecture et l'écriture de données au format JSON.\n",
    "csv: Pour lire et écrire des fichiers CSV.\n",
    "datetime: Pour manipuler les dates et les heures.\n",
    "random: Pour la génération de nombres aléatoires.\n",
    "re: Pour les expressions régulières, utiles dans le traitement de texte et le nettoyage des données.\n",
    "sqlite3: Pour la gestion de bases de données SQL légères.\n",
    "pickle: Pour la sérialisation et la désérialisation de structures de données Python."
   ]
  },
  {
   "cell_type": "code",
   "execution_count": 8,
   "id": "e2b6042f",
   "metadata": {},
   "outputs": [],
   "source": [
    "import math"
   ]
  },
  {
   "cell_type": "code",
   "execution_count": 9,
   "id": "5fa93d72",
   "metadata": {},
   "outputs": [
    {
     "name": "stdout",
     "output_type": "stream",
     "text": [
      "racine carré:  9.486832980505138\n",
      "cosinus: -0.4480736161291701\n",
      "sinus: 0.8939966636005579\n",
      "exponentiel 1.2204032943178408e+39\n"
     ]
    }
   ],
   "source": [
    "print(\"racine carré: \",math.sqrt(90))\n",
    "print(\"cosinus:\",math.cos(90))\n",
    "print(\"sinus:\",math.sin(90))\n",
    "print(\"exponentiel\",math.exp(90))"
   ]
  },
  {
   "cell_type": "code",
   "execution_count": 10,
   "id": "64a12008",
   "metadata": {},
   "outputs": [],
   "source": [
    "# ex d'utilisation des modules statistiques\n",
    "import statistics as st"
   ]
  },
  {
   "cell_type": "code",
   "execution_count": 11,
   "id": "7308e3c7",
   "metadata": {},
   "outputs": [
    {
     "name": "stdout",
     "output_type": "stream",
     "text": [
      "46.666666666666664\n",
      "50\n"
     ]
    }
   ],
   "source": [
    "print(st.mean([30,50,60]))\n",
    "print(st.median_high([30,50,60]))"
   ]
  },
  {
   "cell_type": "code",
   "execution_count": 12,
   "id": "557573d1",
   "metadata": {},
   "outputs": [],
   "source": [
    "# ex d'utilisation de random (choice, seed, sample, randint, shuffle)\n",
    "import random"
   ]
  },
  {
   "cell_type": "code",
   "execution_count": 13,
   "id": "f7e130b0",
   "metadata": {},
   "outputs": [
    {
     "data": {
      "text/plain": [
       "'T'"
      ]
     },
     "execution_count": 13,
     "metadata": {},
     "output_type": "execute_result"
    }
   ],
   "source": [
    "# choisir un élément aléatoire dans une liste (liste de nom)\n",
    "liste_nom = [\"R\", \"T\", \"M\", \"A\"]\n",
    "random.choice(liste_nom)"
   ]
  },
  {
   "cell_type": "code",
   "execution_count": 14,
   "id": "767bfc69",
   "metadata": {},
   "outputs": [
    {
     "data": {
      "text/plain": [
       "'T'"
      ]
     },
     "execution_count": 14,
     "metadata": {},
     "output_type": "execute_result"
    }
   ],
   "source": [
    "# fixer la graine (seed) \n",
    "random.seed(51)\n",
    "liste_nom = [\"R\", \"T\", \"M\", \"A\"]\n",
    "random.choice(liste_nom)"
   ]
  },
  {
   "cell_type": "code",
   "execution_count": 15,
   "id": "54724c08",
   "metadata": {},
   "outputs": [
    {
     "data": {
      "text/plain": [
       "['R', 'R', 'T', 'R', 'T', 'R', 'R', 'R']"
      ]
     },
     "execution_count": 15,
     "metadata": {},
     "output_type": "execute_result"
    }
   ],
   "source": [
    "# sample\n",
    "random.sample([\"R\", \"T\"], counts=[6,2], k=8)\n",
    "# sample(range(10000), 60)"
   ]
  },
  {
   "cell_type": "code",
   "execution_count": null,
   "id": "59168c6b",
   "metadata": {},
   "outputs": [],
   "source": []
  },
  {
   "cell_type": "code",
   "execution_count": null,
   "id": "a946b154",
   "metadata": {},
   "outputs": [],
   "source": []
  },
  {
   "cell_type": "code",
   "execution_count": 16,
   "id": "cd971296",
   "metadata": {},
   "outputs": [
    {
     "data": {
      "text/plain": [
       "0.5860643734085744"
      ]
     },
     "execution_count": 16,
     "metadata": {},
     "output_type": "execute_result"
    }
   ],
   "source": [
    "# aléatoire float (random.random)\n",
    "random.random()"
   ]
  },
  {
   "cell_type": "code",
   "execution_count": 17,
   "id": "9fc94d59",
   "metadata": {},
   "outputs": [
    {
     "data": {
      "text/plain": [
       "47"
      ]
     },
     "execution_count": 17,
     "metadata": {},
     "output_type": "execute_result"
    }
   ],
   "source": [
    "# aléatoire interger\n",
    "random.randint(1,100)"
   ]
  },
  {
   "cell_type": "code",
   "execution_count": 18,
   "id": "933d6d6d",
   "metadata": {},
   "outputs": [],
   "source": [
    "# choisir un nombre d'élément à partir d'un liste et choisir un nombre précis"
   ]
  },
  {
   "cell_type": "code",
   "execution_count": 19,
   "id": "16695ac0",
   "metadata": {},
   "outputs": [
    {
     "data": {
      "text/plain": [
       "['R', 'M', 'T', 'A']"
      ]
     },
     "execution_count": 19,
     "metadata": {},
     "output_type": "execute_result"
    }
   ],
   "source": [
    "# Mélanger aléatoirement des données dans une liste (shuffle)\n",
    "random.shuffle(liste_nom)\n",
    "liste_nom"
   ]
  },
  {
   "cell_type": "code",
   "execution_count": null,
   "id": "38f62dd5",
   "metadata": {},
   "outputs": [],
   "source": []
  },
  {
   "cell_type": "markdown",
   "id": "c0f3d9da",
   "metadata": {},
   "source": [
    "## Les packages en python\n",
    "Lien pour en sarvoir plus https://packaging.python.org/en/latest/tutorials/packaging-projects/"
   ]
  },
  {
   "cell_type": "markdown",
   "id": "c7d70e13",
   "metadata": {},
   "source": [
    "# utilisation de mon package"
   ]
  },
  {
   "cell_type": "code",
   "execution_count": 20,
   "id": "189a00b5",
   "metadata": {},
   "outputs": [],
   "source": [
    "import monPackage.spyderPython4 as sp"
   ]
  },
  {
   "cell_type": "markdown",
   "id": "7f48359b",
   "metadata": {},
   "source": [
    "Trouver les packages disponibles ici: https://pypi.org/"
   ]
  },
  {
   "cell_type": "code",
   "execution_count": 21,
   "id": "208f2870",
   "metadata": {},
   "outputs": [
    {
     "name": "stdout",
     "output_type": "stream",
     "text": [
      "Package                       Version\n",
      "----------------------------- ---------------\n",
      "absl-py                       2.1.0\n",
      "alabaster                     0.7.12\n",
      "anaconda-client               1.11.1\n",
      "anaconda-navigator            2.4.0\n",
      "anaconda-project              0.11.1\n",
      "ansi2html                     1.9.1\n",
      "anyio                         3.5.0\n",
      "appdirs                       1.4.4\n",
      "argon2-cffi                   21.3.0\n",
      "argon2-cffi-bindings          21.2.0\n",
      "arrow                         1.2.3\n",
      "astroid                       2.14.2\n",
      "astropy                       5.1\n",
      "asttokens                     2.0.5\n",
      "astunparse                    1.6.3\n",
      "atomicwrites                  1.4.0\n",
      "attrs                         22.1.0\n",
      "Automat                       20.2.0\n",
      "autopep8                      1.6.0\n",
      "Babel                         2.11.0\n",
      "backcall                      0.2.0\n",
      "backports.functools-lru-cache 1.6.4\n",
      "backports.tempfile            1.0\n",
      "backports.weakref             1.0.post1\n",
      "bcrypt                        3.2.0\n",
      "beautifulsoup4                4.11.1\n",
      "binaryornot                   0.4.4\n",
      "black                         22.6.0\n",
      "bleach                        4.1.0\n",
      "bokeh                         2.4.3\n",
      "boltons                       23.0.0\n",
      "Bottleneck                    1.3.5\n",
      "brotlipy                      0.7.0\n",
      "cachetools                    5.3.2\n",
      "certifi                       2023.5.7\n",
      "cffi                          1.15.1\n",
      "chardet                       4.0.0\n",
      "charset-normalizer            2.0.4\n",
      "click                         8.0.4\n",
      "cloudpickle                   2.0.0\n",
      "clyent                        1.2.2\n",
      "colorama                      0.4.6\n",
      "colorcet                      3.0.1\n",
      "comm                          0.1.2\n",
      "conda                         23.3.1\n",
      "conda-build                   3.23.3\n",
      "conda-content-trust           0.1.3\n",
      "conda-pack                    0.6.0\n",
      "conda-package-handling        2.0.2\n",
      "conda_package_streaming       0.7.0\n",
      "conda-repo-cli                1.0.27\n",
      "conda-token                   0.4.0\n",
      "conda-verify                  3.4.2\n",
      "constantly                    15.1.0\n",
      "contourpy                     1.0.5\n",
      "cookiecutter                  1.7.3\n",
      "cryptography                  39.0.1\n",
      "cssselect                     1.1.0\n",
      "cycler                        0.11.0\n",
      "cytoolz                       0.12.0\n",
      "daal4py                       2023.0.2\n",
      "dash                          2.14.2\n",
      "dash-core-components          2.0.0\n",
      "dash-html-components          2.0.0\n",
      "dash-table                    5.0.0\n",
      "dask                          2022.7.0\n",
      "datashader                    0.14.4\n",
      "datashape                     0.5.4\n",
      "debugpy                       1.5.1\n",
      "decorator                     5.1.1\n",
      "defusedxml                    0.7.1\n",
      "diff-match-patch              20200713\n",
      "dill                          0.3.6\n",
      "distributed                   2022.7.0\n",
      "docstring-to-markdown         0.11\n",
      "docutils                      0.18.1\n",
      "entrypoints                   0.4\n",
      "et-xmlfile                    1.1.0\n",
      "executing                     0.8.3\n",
      "fastjsonschema                2.16.2\n",
      "filelock                      3.9.0\n",
      "flake8                        6.0.0\n",
      "Flask                         2.2.2\n",
      "flatbuffers                   23.5.26\n",
      "flit_core                     3.6.0\n",
      "fonttools                     4.25.0\n",
      "fsspec                        2022.11.0\n",
      "future                        0.18.3\n",
      "gast                          0.5.4\n",
      "gensim                        4.3.0\n",
      "glob2                         0.7\n",
      "google-auth                   2.27.0\n",
      "google-auth-oauthlib          1.2.0\n",
      "google-pasta                  0.2.0\n",
      "greenlet                      2.0.1\n",
      "grpcio                        1.60.0\n",
      "h5py                          3.7.0\n",
      "HeapDict                      1.0.1\n",
      "holoviews                     1.15.4\n",
      "huggingface-hub               0.10.1\n",
      "hvplot                        0.8.2\n",
      "hyperlink                     21.0.0\n",
      "idna                          3.4\n",
      "imagecodecs                   2021.8.26\n",
      "imageio                       2.26.0\n",
      "imagesize                     1.4.1\n",
      "imbalanced-learn              0.10.1\n",
      "importlib-metadata            4.11.3\n",
      "incremental                   21.3.0\n",
      "inflection                    0.5.1\n",
      "iniconfig                     1.1.1\n",
      "intake                        0.6.7\n",
      "intervaltree                  3.1.0\n",
      "ipykernel                     6.19.2\n",
      "ipython                       8.10.0\n",
      "ipython-genutils              0.2.0\n",
      "ipywidgets                    7.6.5\n",
      "isort                         5.9.3\n",
      "itemadapter                   0.3.0\n",
      "itemloaders                   1.0.4\n",
      "itsdangerous                  2.0.1\n",
      "jedi                          0.18.1\n",
      "jellyfish                     0.9.0\n",
      "Jinja2                        3.1.2\n",
      "jinja2-time                   0.2.0\n",
      "jmespath                      0.10.0\n",
      "joblib                        1.1.1\n",
      "json5                         0.9.6\n",
      "jsonpatch                     1.32\n",
      "jsonpointer                   2.1\n",
      "jsonschema                    4.17.3\n",
      "jupyter                       1.0.0\n",
      "jupyter_client                7.3.4\n",
      "jupyter-console               6.6.2\n",
      "jupyter_core                  5.2.0\n",
      "jupyter-server                1.23.4\n",
      "jupyterlab                    3.5.3\n",
      "jupyterlab-pygments           0.1.2\n",
      "jupyterlab_server             2.19.0\n",
      "jupyterlab-widgets            1.0.0\n",
      "keras                         2.15.0\n",
      "keyring                       23.4.0\n",
      "kiwisolver                    1.4.4\n",
      "lazy-object-proxy             1.6.0\n",
      "libarchive-c                  2.9\n",
      "libclang                      16.0.6\n",
      "llvmlite                      0.39.1\n",
      "locket                        1.0.0\n",
      "lxml                          4.9.1\n",
      "lz4                           3.1.3\n",
      "Markdown                      3.4.1\n",
      "MarkupSafe                    2.1.1\n",
      "matplotlib                    3.7.0\n",
      "matplotlib-inline             0.1.6\n",
      "mccabe                        0.7.0\n",
      "menuinst                      1.4.19\n",
      "mistune                       0.8.4\n",
      "mkl-fft                       1.3.1\n",
      "mkl-random                    1.2.2\n",
      "mkl-service                   2.4.0\n",
      "ml-dtypes                     0.2.0\n",
      "mock                          4.0.3\n",
      "mpmath                        1.2.1\n",
      "msgpack                       1.0.3\n",
      "multipledispatch              0.6.0\n",
      "munkres                       1.1.4\n",
      "mypy-extensions               0.4.3\n",
      "navigator-updater             0.3.0\n",
      "nbclassic                     0.5.2\n",
      "nbclient                      0.5.13\n",
      "nbconvert                     6.5.4\n",
      "nbformat                      5.7.0\n",
      "nest-asyncio                  1.5.6\n",
      "networkx                      2.8.4\n",
      "nltk                          3.7\n",
      "notebook                      6.5.2\n",
      "notebook_shim                 0.2.2\n",
      "numba                         0.56.4\n",
      "numexpr                       2.8.4\n",
      "numpy                         1.23.5\n",
      "numpydoc                      1.5.0\n",
      "oauthlib                      3.2.2\n",
      "openpyxl                      3.0.10\n",
      "opt-einsum                    3.3.0\n",
      "packaging                     22.0\n",
      "pandas                        1.5.3\n",
      "pandocfilters                 1.5.0\n",
      "panel                         0.14.3\n",
      "param                         1.12.3\n",
      "paramiko                      2.8.1\n",
      "parsel                        1.6.0\n",
      "parso                         0.8.3\n",
      "partd                         1.2.0\n",
      "pathlib                       1.0.1\n",
      "pathspec                      0.10.3\n",
      "patsy                         0.5.3\n",
      "pep8                          1.7.1\n",
      "pexpect                       4.8.0\n",
      "pickleshare                   0.7.5\n",
      "Pillow                        9.4.0\n",
      "pip                           22.3.1\n",
      "pkginfo                       1.8.3\n",
      "platformdirs                  2.5.2\n",
      "plotly                        5.9.0\n",
      "pluggy                        1.0.0\n",
      "ply                           3.11\n",
      "pooch                         1.4.0\n",
      "poyo                          0.5.0\n",
      "prometheus-client             0.14.1\n",
      "prompt-toolkit                3.0.36\n",
      "Protego                       0.1.16\n",
      "protobuf                      4.23.4\n",
      "psutil                        5.9.0\n",
      "ptyprocess                    0.7.0\n",
      "pure-eval                     0.2.2\n",
      "py                            1.11.0\n",
      "pyasn1                        0.4.8\n",
      "pyasn1-modules                0.2.8\n",
      "pycodestyle                   2.10.0\n",
      "pycosat                       0.6.4\n",
      "pycparser                     2.21\n",
      "pyct                          0.5.0\n",
      "pycurl                        7.45.1\n",
      "PyDispatcher                  2.0.5\n",
      "pydocstyle                    6.3.0\n",
      "pyerfa                        2.0.0\n",
      "pyflakes                      3.0.1\n",
      "Pygments                      2.11.2\n",
      "PyHamcrest                    2.0.2\n",
      "PyJWT                         2.4.0\n",
      "pylint                        2.16.2\n",
      "pylint-venv                   2.3.0\n",
      "pyls-spyder                   0.4.0\n",
      "PyNaCl                        1.5.0\n",
      "pyodbc                        4.0.34\n",
      "pyOpenSSL                     23.0.0\n",
      "pyparsing                     3.0.9\n",
      "PyQt5                         5.15.7\n",
      "PyQt5-sip                     12.11.0\n",
      "PyQtWebEngine                 5.15.4\n",
      "pyrsistent                    0.18.0\n",
      "PySocks                       1.7.1\n",
      "pytest                        7.1.2\n",
      "python-dateutil               2.8.2\n",
      "python-lsp-black              1.2.1\n",
      "python-lsp-jsonrpc            1.0.0\n",
      "python-lsp-server             1.7.1\n",
      "python-slugify                5.0.2\n",
      "python-snappy                 0.6.1\n",
      "pytoolconfig                  1.2.5\n",
      "pytz                          2022.7\n",
      "pyviz-comms                   2.0.2\n",
      "PyWavelets                    1.4.1\n",
      "pywin32                       305.1\n",
      "pywin32-ctypes                0.2.0\n",
      "pywinpty                      2.0.10\n",
      "PyYAML                        6.0\n",
      "pyzmq                         23.2.0\n",
      "QDarkStyle                    3.0.2\n",
      "qstylizer                     0.2.2\n",
      "QtAwesome                     1.2.2\n",
      "qtconsole                     5.4.0\n",
      "QtPy                          2.2.0\n",
      "queuelib                      1.5.0\n",
      "regex                         2022.7.9\n",
      "requests                      2.28.1\n",
      "requests-file                 1.5.1\n",
      "requests-oauthlib             1.3.1\n",
      "retrying                      1.3.4\n",
      "rope                          1.7.0\n",
      "rsa                           4.9\n",
      "Rtree                         1.0.1\n",
      "ruamel.yaml                   0.17.21\n",
      "ruamel.yaml.clib              0.2.6\n",
      "ruamel-yaml-conda             0.17.21\n",
      "scikit-image                  0.19.3\n",
      "scikit-learn                  1.2.1\n",
      "scikit-learn-intelex          20230228.214818\n",
      "scipy                         1.10.0\n",
      "Scrapy                        2.8.0\n",
      "seaborn                       0.12.2\n",
      "Send2Trash                    1.8.0\n",
      "service-identity              18.1.0\n",
      "setuptools                    65.6.3\n",
      "sip                           6.6.2\n",
      "six                           1.16.0\n",
      "smart-open                    5.2.1\n",
      "sniffio                       1.2.0\n",
      "snowballstemmer               2.2.0\n",
      "sortedcontainers              2.4.0\n",
      "soupsieve                     2.3.2.post1\n",
      "Sphinx                        5.0.2\n",
      "sphinxcontrib-applehelp       1.0.2\n",
      "sphinxcontrib-devhelp         1.0.2\n",
      "sphinxcontrib-htmlhelp        2.0.0\n",
      "sphinxcontrib-jsmath          1.0.1\n",
      "sphinxcontrib-qthelp          1.0.3\n",
      "sphinxcontrib-serializinghtml 1.1.5\n",
      "spyder                        5.4.1\n",
      "spyder-kernels                2.4.1\n",
      "SQLAlchemy                    1.4.39\n",
      "stack-data                    0.2.0\n",
      "statsmodels                   0.13.5\n",
      "sympy                         1.11.1\n",
      "tables                        3.7.0\n",
      "tabulate                      0.8.10\n",
      "TBB                           0.2\n",
      "tblib                         1.7.0\n",
      "tenacity                      8.0.1\n",
      "tensorboard                   2.15.1\n",
      "tensorboard-data-server       0.7.2\n",
      "tensorflow                    2.15.0\n",
      "tensorflow-estimator          2.15.0\n",
      "tensorflow-intel              2.15.0\n",
      "tensorflow-io-gcs-filesystem  0.31.0\n",
      "termcolor                     2.4.0\n",
      "terminado                     0.17.1\n",
      "text-unidecode                1.3\n",
      "textdistance                  4.2.1\n",
      "threadpoolctl                 2.2.0\n",
      "three-merge                   0.1.1\n",
      "tifffile                      2021.7.2\n",
      "tinycss2                      1.2.1\n",
      "tldextract                    3.2.0\n",
      "tokenizers                    0.11.4\n",
      "toml                          0.10.2\n",
      "tomli                         2.0.1\n",
      "tomlkit                       0.11.1\n",
      "toolz                         0.12.0\n",
      "torch                         1.12.1\n",
      "tornado                       6.1\n",
      "tqdm                          4.64.1\n",
      "traitlets                     5.7.1\n",
      "transformers                  4.24.0\n",
      "Twisted                       22.2.0\n",
      "twisted-iocpsupport           1.0.2\n",
      "typing_extensions             4.4.0\n",
      "ujson                         5.4.0\n",
      "Unidecode                     1.2.0\n",
      "urllib3                       1.26.14\n",
      "w3lib                         1.21.0\n",
      "watchdog                      2.1.6\n",
      "wcwidth                       0.2.5\n",
      "webencodings                  0.5.1\n",
      "websocket-client              0.58.0\n",
      "Werkzeug                      2.2.2\n",
      "whatthepatch                  1.0.2\n",
      "wheel                         0.38.4\n",
      "widgetsnbextension            3.5.2\n",
      "win-inet-pton                 1.1.0\n",
      "wincertstore                  0.2\n",
      "wrapt                         1.14.1\n",
      "xarray                        2022.11.0\n",
      "xlwings                       0.29.1\n",
      "yapf                          0.31.0\n",
      "zict                          2.1.0\n",
      "zipp                          3.11.0\n",
      "zope.interface                5.4.0\n",
      "zstandard                     0.19.0\n"
     ]
    }
   ],
   "source": [
    "!pip list"
   ]
  },
  {
   "cell_type": "markdown",
   "id": "64dd84c8",
   "metadata": {},
   "source": [
    "Trouver les packages disponibles ici: https://pypi.org/"
   ]
  },
  {
   "cell_type": "code",
   "execution_count": 22,
   "id": "0706e48c",
   "metadata": {},
   "outputs": [
    {
     "name": "stdout",
     "output_type": "stream",
     "text": [
      "Requirement already satisfied: tensorflow in c:\\users\\malik\\anaconda3\\lib\\site-packages (2.15.0)\n",
      "Requirement already satisfied: tensorflow-intel==2.15.0 in c:\\users\\malik\\anaconda3\\lib\\site-packages (from tensorflow) (2.15.0)\n",
      "Requirement already satisfied: wrapt<1.15,>=1.11.0 in c:\\users\\malik\\anaconda3\\lib\\site-packages (from tensorflow-intel==2.15.0->tensorflow) (1.14.1)\n",
      "Requirement already satisfied: six>=1.12.0 in c:\\users\\malik\\anaconda3\\lib\\site-packages (from tensorflow-intel==2.15.0->tensorflow) (1.16.0)\n",
      "Requirement already satisfied: tensorflow-io-gcs-filesystem>=0.23.1 in c:\\users\\malik\\anaconda3\\lib\\site-packages (from tensorflow-intel==2.15.0->tensorflow) (0.31.0)\n",
      "Requirement already satisfied: astunparse>=1.6.0 in c:\\users\\malik\\anaconda3\\lib\\site-packages (from tensorflow-intel==2.15.0->tensorflow) (1.6.3)\n",
      "Requirement already satisfied: gast!=0.5.0,!=0.5.1,!=0.5.2,>=0.2.1 in c:\\users\\malik\\anaconda3\\lib\\site-packages (from tensorflow-intel==2.15.0->tensorflow) (0.5.4)\n",
      "Requirement already satisfied: numpy<2.0.0,>=1.23.5 in c:\\users\\malik\\anaconda3\\lib\\site-packages (from tensorflow-intel==2.15.0->tensorflow) (1.23.5)\n",
      "Requirement already satisfied: setuptools in c:\\users\\malik\\anaconda3\\lib\\site-packages (from tensorflow-intel==2.15.0->tensorflow) (65.6.3)\n",
      "Requirement already satisfied: grpcio<2.0,>=1.24.3 in c:\\users\\malik\\anaconda3\\lib\\site-packages (from tensorflow-intel==2.15.0->tensorflow) (1.60.0)\n",
      "Requirement already satisfied: h5py>=2.9.0 in c:\\users\\malik\\anaconda3\\lib\\site-packages (from tensorflow-intel==2.15.0->tensorflow) (3.7.0)\n",
      "Requirement already satisfied: ml-dtypes~=0.2.0 in c:\\users\\malik\\anaconda3\\lib\\site-packages (from tensorflow-intel==2.15.0->tensorflow) (0.2.0)\n",
      "Requirement already satisfied: tensorboard<2.16,>=2.15 in c:\\users\\malik\\anaconda3\\lib\\site-packages (from tensorflow-intel==2.15.0->tensorflow) (2.15.1)\n",
      "Requirement already satisfied: opt-einsum>=2.3.2 in c:\\users\\malik\\anaconda3\\lib\\site-packages (from tensorflow-intel==2.15.0->tensorflow) (3.3.0)\n",
      "Requirement already satisfied: flatbuffers>=23.5.26 in c:\\users\\malik\\anaconda3\\lib\\site-packages (from tensorflow-intel==2.15.0->tensorflow) (23.5.26)\n",
      "Requirement already satisfied: google-pasta>=0.1.1 in c:\\users\\malik\\anaconda3\\lib\\site-packages (from tensorflow-intel==2.15.0->tensorflow) (0.2.0)\n",
      "Requirement already satisfied: protobuf!=4.21.0,!=4.21.1,!=4.21.2,!=4.21.3,!=4.21.4,!=4.21.5,<5.0.0dev,>=3.20.3 in c:\\users\\malik\\anaconda3\\lib\\site-packages (from tensorflow-intel==2.15.0->tensorflow) (4.23.4)\n",
      "Requirement already satisfied: tensorflow-estimator<2.16,>=2.15.0 in c:\\users\\malik\\anaconda3\\lib\\site-packages (from tensorflow-intel==2.15.0->tensorflow) (2.15.0)\n",
      "Requirement already satisfied: libclang>=13.0.0 in c:\\users\\malik\\anaconda3\\lib\\site-packages (from tensorflow-intel==2.15.0->tensorflow) (16.0.6)\n",
      "Requirement already satisfied: keras<2.16,>=2.15.0 in c:\\users\\malik\\anaconda3\\lib\\site-packages (from tensorflow-intel==2.15.0->tensorflow) (2.15.0)\n",
      "Requirement already satisfied: termcolor>=1.1.0 in c:\\users\\malik\\anaconda3\\lib\\site-packages (from tensorflow-intel==2.15.0->tensorflow) (2.4.0)\n",
      "Requirement already satisfied: packaging in c:\\users\\malik\\anaconda3\\lib\\site-packages (from tensorflow-intel==2.15.0->tensorflow) (22.0)\n",
      "Requirement already satisfied: typing-extensions>=3.6.6 in c:\\users\\malik\\anaconda3\\lib\\site-packages (from tensorflow-intel==2.15.0->tensorflow) (4.4.0)\n",
      "Requirement already satisfied: absl-py>=1.0.0 in c:\\users\\malik\\anaconda3\\lib\\site-packages (from tensorflow-intel==2.15.0->tensorflow) (2.1.0)\n",
      "Requirement already satisfied: wheel<1.0,>=0.23.0 in c:\\users\\malik\\anaconda3\\lib\\site-packages (from astunparse>=1.6.0->tensorflow-intel==2.15.0->tensorflow) (0.38.4)\n",
      "Requirement already satisfied: werkzeug>=1.0.1 in c:\\users\\malik\\anaconda3\\lib\\site-packages (from tensorboard<2.16,>=2.15->tensorflow-intel==2.15.0->tensorflow) (2.2.2)\n",
      "Requirement already satisfied: markdown>=2.6.8 in c:\\users\\malik\\anaconda3\\lib\\site-packages (from tensorboard<2.16,>=2.15->tensorflow-intel==2.15.0->tensorflow) (3.4.1)\n",
      "Requirement already satisfied: google-auth-oauthlib<2,>=0.5 in c:\\users\\malik\\anaconda3\\lib\\site-packages (from tensorboard<2.16,>=2.15->tensorflow-intel==2.15.0->tensorflow) (1.2.0)\n",
      "Requirement already satisfied: tensorboard-data-server<0.8.0,>=0.7.0 in c:\\users\\malik\\anaconda3\\lib\\site-packages (from tensorboard<2.16,>=2.15->tensorflow-intel==2.15.0->tensorflow) (0.7.2)\n",
      "Requirement already satisfied: requests<3,>=2.21.0 in c:\\users\\malik\\anaconda3\\lib\\site-packages (from tensorboard<2.16,>=2.15->tensorflow-intel==2.15.0->tensorflow) (2.28.1)\n",
      "Requirement already satisfied: google-auth<3,>=1.6.3 in c:\\users\\malik\\anaconda3\\lib\\site-packages (from tensorboard<2.16,>=2.15->tensorflow-intel==2.15.0->tensorflow) (2.27.0)\n",
      "Requirement already satisfied: pyasn1-modules>=0.2.1 in c:\\users\\malik\\anaconda3\\lib\\site-packages (from google-auth<3,>=1.6.3->tensorboard<2.16,>=2.15->tensorflow-intel==2.15.0->tensorflow) (0.2.8)\n",
      "Requirement already satisfied: rsa<5,>=3.1.4 in c:\\users\\malik\\anaconda3\\lib\\site-packages (from google-auth<3,>=1.6.3->tensorboard<2.16,>=2.15->tensorflow-intel==2.15.0->tensorflow) (4.9)\n",
      "Requirement already satisfied: cachetools<6.0,>=2.0.0 in c:\\users\\malik\\anaconda3\\lib\\site-packages (from google-auth<3,>=1.6.3->tensorboard<2.16,>=2.15->tensorflow-intel==2.15.0->tensorflow) (5.3.2)\n",
      "Requirement already satisfied: requests-oauthlib>=0.7.0 in c:\\users\\malik\\anaconda3\\lib\\site-packages (from google-auth-oauthlib<2,>=0.5->tensorboard<2.16,>=2.15->tensorflow-intel==2.15.0->tensorflow) (1.3.1)\n",
      "Requirement already satisfied: charset-normalizer<3,>=2 in c:\\users\\malik\\anaconda3\\lib\\site-packages (from requests<3,>=2.21.0->tensorboard<2.16,>=2.15->tensorflow-intel==2.15.0->tensorflow) (2.0.4)\n",
      "Requirement already satisfied: urllib3<1.27,>=1.21.1 in c:\\users\\malik\\anaconda3\\lib\\site-packages (from requests<3,>=2.21.0->tensorboard<2.16,>=2.15->tensorflow-intel==2.15.0->tensorflow) (1.26.14)\n",
      "Requirement already satisfied: idna<4,>=2.5 in c:\\users\\malik\\anaconda3\\lib\\site-packages (from requests<3,>=2.21.0->tensorboard<2.16,>=2.15->tensorflow-intel==2.15.0->tensorflow) (3.4)\n",
      "Requirement already satisfied: certifi>=2017.4.17 in c:\\users\\malik\\anaconda3\\lib\\site-packages (from requests<3,>=2.21.0->tensorboard<2.16,>=2.15->tensorflow-intel==2.15.0->tensorflow) (2023.5.7)\n",
      "Requirement already satisfied: MarkupSafe>=2.1.1 in c:\\users\\malik\\anaconda3\\lib\\site-packages (from werkzeug>=1.0.1->tensorboard<2.16,>=2.15->tensorflow-intel==2.15.0->tensorflow) (2.1.1)\n",
      "Requirement already satisfied: pyasn1<0.5.0,>=0.4.6 in c:\\users\\malik\\anaconda3\\lib\\site-packages (from pyasn1-modules>=0.2.1->google-auth<3,>=1.6.3->tensorboard<2.16,>=2.15->tensorflow-intel==2.15.0->tensorflow) (0.4.8)\n",
      "Requirement already satisfied: oauthlib>=3.0.0 in c:\\users\\malik\\anaconda3\\lib\\site-packages (from requests-oauthlib>=0.7.0->google-auth-oauthlib<2,>=0.5->tensorboard<2.16,>=2.15->tensorflow-intel==2.15.0->tensorflow) (3.2.2)\n"
     ]
    }
   ],
   "source": [
    "# Installer un package\n",
    "!pip install tensorflow"
   ]
  },
  {
   "cell_type": "code",
   "execution_count": 23,
   "id": "7ebf43a3",
   "metadata": {},
   "outputs": [],
   "source": [
    "import numpy as np"
   ]
  },
  {
   "cell_type": "code",
   "execution_count": 24,
   "id": "ec6beb4f",
   "metadata": {},
   "outputs": [],
   "source": [
    "from monPackage.spyderPython4 import statdescriptive\n",
    "# import statdescriptive from monPackage.spyderPython4 . faux !"
   ]
  },
  {
   "cell_type": "markdown",
   "id": "cf8972e5",
   "metadata": {},
   "source": [
    "# Open"
   ]
  },
  {
   "cell_type": "code",
   "execution_count": 25,
   "id": "4930436a",
   "metadata": {},
   "outputs": [],
   "source": [
    "# ecrire dans le ficher et créer le ficher (première approche)"
   ]
  },
  {
   "cell_type": "code",
   "execution_count": 26,
   "id": "8d25d2ea",
   "metadata": {},
   "outputs": [],
   "source": [
    "f = open(\"resultat.txt\", \"w\")\n",
    "f.write(\"Bonjour\")\n",
    "f.close()"
   ]
  },
  {
   "cell_type": "code",
   "execution_count": 27,
   "id": "ce09ae47",
   "metadata": {},
   "outputs": [
    {
     "data": {
      "text/plain": [
       "'Bonjour'"
      ]
     },
     "execution_count": 27,
     "metadata": {},
     "output_type": "execute_result"
    }
   ],
   "source": [
    "f = open(\"resultat.txt\", \"r\")\n",
    "f.read()\n"
   ]
  },
  {
   "cell_type": "code",
   "execution_count": 28,
   "id": "69688596",
   "metadata": {},
   "outputs": [],
   "source": [
    "f.close()"
   ]
  },
  {
   "cell_type": "code",
   "execution_count": 29,
   "id": "30e1e669",
   "metadata": {},
   "outputs": [],
   "source": [
    "# ecriture 2 apporche avec with\n",
    "with open(\"resultat2.txt\", \"w\") as f:\n",
    "    for i in range(1,10):\n",
    "        f.write(f\"Le prochain nombre est {i} \\n\")"
   ]
  },
  {
   "cell_type": "code",
   "execution_count": 30,
   "id": "25324df9",
   "metadata": {},
   "outputs": [
    {
     "data": {
      "text/plain": [
       "['Le prochain nombre est 1 \\n',\n",
       " 'Le prochain nombre est 2 \\n',\n",
       " 'Le prochain nombre est 3 \\n',\n",
       " 'Le prochain nombre est 4 \\n',\n",
       " 'Le prochain nombre est 5 \\n',\n",
       " 'Le prochain nombre est 6 \\n',\n",
       " 'Le prochain nombre est 7 \\n',\n",
       " 'Le prochain nombre est 8 \\n',\n",
       " 'Le prochain nombre est 9 \\n']"
      ]
     },
     "execution_count": 30,
     "metadata": {},
     "output_type": "execute_result"
    }
   ],
   "source": [
    "# lecture 2 approche (readlines et read().splitlines())\n",
    "with open(\"resultat2.txt\", \"r\") as f:\n",
    "    resultat = f.readlines()\n",
    "resultat"
   ]
  },
  {
   "cell_type": "code",
   "execution_count": 31,
   "id": "bfdc6e17",
   "metadata": {},
   "outputs": [],
   "source": [
    "#importer avec la technique des listes en compréhension"
   ]
  },
  {
   "cell_type": "markdown",
   "id": "3988e7a4",
   "metadata": {},
   "source": [
    "# Bien démarrer avec Numpy\n",
    "\n",
    "## Bien démarrer avec une dimention(Create)"
   ]
  },
  {
   "cell_type": "code",
   "execution_count": 32,
   "id": "4547c194",
   "metadata": {},
   "outputs": [],
   "source": [
    "# shape"
   ]
  },
  {
   "cell_type": "code",
   "execution_count": 33,
   "id": "e6c51732",
   "metadata": {},
   "outputs": [],
   "source": [
    "# importation\n",
    "import numpy as np"
   ]
  },
  {
   "cell_type": "code",
   "execution_count": 34,
   "id": "2198d2b8",
   "metadata": {},
   "outputs": [
    {
     "data": {
      "text/plain": [
       "array([   4,    5,    2,    6,    6,    4,    8, 5561,    8,    1,    6,\n",
       "          8])"
      ]
     },
     "execution_count": 34,
     "metadata": {},
     "output_type": "execute_result"
    }
   ],
   "source": [
    "# Création d'un nd array à une dimension à partir d'une liste\n",
    "tableau_dim1 = np.array([4,5,2,6,6,4,8,5561,8,1,6,8])\n",
    "tableau_dim1"
   ]
  },
  {
   "cell_type": "code",
   "execution_count": 35,
   "id": "765aa6a0",
   "metadata": {},
   "outputs": [
    {
     "data": {
      "text/plain": [
       "array([[4, 5, 2, 6, 6, 4, 8],\n",
       "       [4, 5, 2, 6, 6, 4, 8]])"
      ]
     },
     "execution_count": 35,
     "metadata": {},
     "output_type": "execute_result"
    }
   ],
   "source": [
    "tableau_dim1 = np.array([[4,5,2,6,6,4,8],[4,5,2,6,6,4,8]])\n",
    "tableau_dim1"
   ]
  },
  {
   "cell_type": "code",
   "execution_count": 36,
   "id": "28a796db",
   "metadata": {},
   "outputs": [
    {
     "data": {
      "text/plain": [
       "tuple"
      ]
     },
     "execution_count": 36,
     "metadata": {},
     "output_type": "execute_result"
    }
   ],
   "source": [
    "type(tableau_dim1.shape)"
   ]
  },
  {
   "cell_type": "code",
   "execution_count": 37,
   "id": "b5be31bd",
   "metadata": {},
   "outputs": [],
   "source": [
    "# shape de l'objet"
   ]
  },
  {
   "cell_type": "code",
   "execution_count": 38,
   "id": "c7c054c0",
   "metadata": {},
   "outputs": [],
   "source": [
    "# nombre d'élément dans le tableau size de l'objet"
   ]
  },
  {
   "cell_type": "code",
   "execution_count": 39,
   "id": "df96ad98",
   "metadata": {},
   "outputs": [],
   "source": [
    "# attributs importants: shape et size"
   ]
  },
  {
   "cell_type": "markdown",
   "id": "5b6e6960",
   "metadata": {},
   "source": [
    "## créer un numpy array à partir des fonctions intégrées"
   ]
  },
  {
   "cell_type": "code",
   "execution_count": 40,
   "id": "443780bd",
   "metadata": {},
   "outputs": [
    {
     "data": {
      "text/plain": [
       "array([[0., 0.],\n",
       "       [0., 0.]])"
      ]
     },
     "execution_count": 40,
     "metadata": {},
     "output_type": "execute_result"
    }
   ],
   "source": [
    "# tableau avec des zéros (np.zeros)\n",
    "tableau_zero = np.zeros((2,2))\n",
    "tableau_zero"
   ]
  },
  {
   "cell_type": "code",
   "execution_count": 41,
   "id": "4c7df944",
   "metadata": {},
   "outputs": [
    {
     "data": {
      "text/plain": [
       "array([[1., 1., 1.],\n",
       "       [1., 1., 1.],\n",
       "       [1., 1., 1.]])"
      ]
     },
     "execution_count": 41,
     "metadata": {},
     "output_type": "execute_result"
    }
   ],
   "source": [
    "# tableau avec des uns (np.ones)\n",
    "tableau_ones = np.ones((3,3))\n",
    "tableau_ones"
   ]
  },
  {
   "cell_type": "code",
   "execution_count": 42,
   "id": "70fe9cf9",
   "metadata": {},
   "outputs": [],
   "source": [
    "np.eye??"
   ]
  },
  {
   "cell_type": "code",
   "execution_count": 43,
   "id": "4ba6ef05",
   "metadata": {},
   "outputs": [
    {
     "data": {
      "text/plain": [
       "array([[1., 0., 0.],\n",
       "       [0., 1., 0.],\n",
       "       [0., 0., 1.]])"
      ]
     },
     "execution_count": 43,
     "metadata": {},
     "output_type": "execute_result"
    }
   ],
   "source": [
    "# créer une matrice identité avec np.eyes()\n",
    "tableau_eye = np.eye(3)\n",
    "tableau_eye"
   ]
  },
  {
   "cell_type": "code",
   "execution_count": 48,
   "id": "2c165f60",
   "metadata": {},
   "outputs": [
    {
     "data": {
      "text/plain": [
       "array([ 0,  3,  6,  9, 12, 15, 18, 21])"
      ]
     },
     "execution_count": 48,
     "metadata": {},
     "output_type": "execute_result"
    }
   ],
   "source": [
    "# créer un numpy array avec la fonction arange: pour créer des nombre entre le minimum et le maximum avec un pas\n",
    "np.arange(0,22,3)"
   ]
  },
  {
   "cell_type": "code",
   "execution_count": 45,
   "id": "ef7e36a1",
   "metadata": {},
   "outputs": [
    {
     "data": {
      "text/plain": [
       "array([0.        , 0.05263158, 0.10526316, 0.15789474, 0.21052632,\n",
       "       0.26315789, 0.31578947, 0.36842105, 0.42105263, 0.47368421,\n",
       "       0.52631579, 0.57894737, 0.63157895, 0.68421053, 0.73684211,\n",
       "       0.78947368, 0.84210526, 0.89473684, 0.94736842, 1.        ])"
      ]
     },
     "execution_count": 45,
     "metadata": {},
     "output_type": "execute_result"
    }
   ],
   "source": [
    "# créer un numpy array avec la fonction linspace \n",
    "# générer une séquence de nombre \n",
    "# très utile pour les graphiques\n",
    "# entre deux valeurs données avec un nombre de points donné\n",
    "np.linspace(0,1,20)"
   ]
  },
  {
   "cell_type": "code",
   "execution_count": 50,
   "id": "092fcc9e",
   "metadata": {},
   "outputs": [
    {
     "data": {
      "text/plain": [
       "array([0.59975217, 0.32880715, 0.85259554, 0.83240943, 0.17556442,\n",
       "       0.71915193, 0.01868748, 0.50657277, 0.09357181, 0.06601439])"
      ]
     },
     "execution_count": 50,
     "metadata": {},
     "output_type": "execute_result"
    }
   ],
   "source": [
    "# Créer un numpy array de valeurs aléatoires avec la fonction random avec np.random.random\n",
    "np.random.random(10)"
   ]
  },
  {
   "cell_type": "code",
   "execution_count": null,
   "id": "d08c0caf",
   "metadata": {},
   "outputs": [],
   "source": [
    "# nombre aléatoire suivant une loi aléatoire\n",
    "# fixer la graine avec seed de random"
   ]
  },
  {
   "cell_type": "markdown",
   "id": "6f508305",
   "metadata": {},
   "source": [
    "# Accéder aux éléments, sélectionner(read)"
   ]
  },
  {
   "cell_type": "code",
   "execution_count": 51,
   "id": "cc13f03c",
   "metadata": {},
   "outputs": [
    {
     "data": {
      "text/plain": [
       "array([   4,    5,    2,    6,    6,    4,    8, 5561,    8,    1,    6,\n",
       "          8])"
      ]
     },
     "execution_count": 51,
     "metadata": {},
     "output_type": "execute_result"
    }
   ],
   "source": [
    "# Accès aux éléments\n",
    "tableau_dim1 = np.array([4,5,2,6,6,4,8,5561,8,1,6,8])\n",
    "tableau_dim1"
   ]
  },
  {
   "cell_type": "code",
   "execution_count": 52,
   "id": "91ecd03b",
   "metadata": {},
   "outputs": [
    {
     "data": {
      "text/plain": [
       "8"
      ]
     },
     "execution_count": 52,
     "metadata": {},
     "output_type": "execute_result"
    }
   ],
   "source": [
    "tableau_dim1[-1]"
   ]
  },
  {
   "cell_type": "code",
   "execution_count": 58,
   "id": "ee492402",
   "metadata": {},
   "outputs": [
    {
     "data": {
      "text/plain": [
       "array([ True,  True,  True, False, False,  True, False, False, False,\n",
       "        True, False, False])"
      ]
     },
     "execution_count": 58,
     "metadata": {},
     "output_type": "execute_result"
    }
   ],
   "source": [
    "# sélection des éléments qui respectent une condition\n",
    "tableau_dim1 < 6"
   ]
  },
  {
   "cell_type": "code",
   "execution_count": null,
   "id": "c080679e",
   "metadata": {},
   "outputs": [],
   "source": [
    "# utilisation de np.where()\n",
    "np.where(tableau_dim1>7)\n",
    "nb_superieur_10 = tableau_dim1[np.where(tableau_dim1>7)]\n",
    "print(nb_superieur_10)"
   ]
  },
  {
   "cell_type": "code",
   "execution_count": null,
   "id": "8b888a19",
   "metadata": {},
   "outputs": [],
   "source": [
    "# récupérer des éléments à partir des indices"
   ]
  },
  {
   "cell_type": "markdown",
   "id": "1993725e",
   "metadata": {},
   "source": [
    "# modifier et mettre à un numpy array(Update)"
   ]
  },
  {
   "cell_type": "code",
   "execution_count": null,
   "id": "07a9a837",
   "metadata": {},
   "outputs": [],
   "source": []
  },
  {
   "cell_type": "code",
   "execution_count": null,
   "id": "dae84d4e",
   "metadata": {},
   "outputs": [],
   "source": []
  },
  {
   "cell_type": "code",
   "execution_count": null,
   "id": "4bf4d131",
   "metadata": {},
   "outputs": [],
   "source": []
  }
 ],
 "metadata": {
  "kernelspec": {
   "display_name": "Python 3 (ipykernel)",
   "language": "python",
   "name": "python3"
  },
  "language_info": {
   "codemirror_mode": {
    "name": "ipython",
    "version": 3
   },
   "file_extension": ".py",
   "mimetype": "text/x-python",
   "name": "python",
   "nbconvert_exporter": "python",
   "pygments_lexer": "ipython3",
   "version": "3.10.9"
  }
 },
 "nbformat": 4,
 "nbformat_minor": 5
}
